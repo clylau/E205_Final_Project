{
 "cells": [
  {
   "cell_type": "code",
   "execution_count": 1,
   "metadata": {},
   "outputs": [],
   "source": [
    "import csv\n",
    "import time\n",
    "import sys\n",
    "import matplotlib.pyplot as plt\n",
    "import numpy as np\n",
    "import math\n",
    "import os.path\n",
    "from scipy.stats import multivariate_normal\n",
    "import ipywidgets as widgets\n",
    "from IPython.display import display\n",
    "import pandas as pd\n"
   ]
  },
  {
   "cell_type": "code",
   "execution_count": 2,
   "metadata": {},
   "outputs": [],
   "source": [
    "def loadFile(filename):\n",
    "    '''\n",
    "    Reads in data file\n",
    "    '''\n",
    "    \n",
    "    if 'Barcodes' in filename:\n",
    "        col_name = ['Subject', 'Barcode']\n",
    "    elif 'Landmark_Groundtruth' in filename:\n",
    "        col_name = ['Subject', 'x', 'y', 'x_std', 'y_std']\n",
    "    elif 'Groundtruth' in filename:\n",
    "        col_name = ['Time', 'x', 'y', 'orientation']\n",
    "    elif 'Measurement' in filename:\n",
    "        col_name = ['Time', 'Subject', 'Range', 'Bearing']\n",
    "    else:\n",
    "        col_name = ['Time', 'Forward Velocity', 'Angular Velocity']\n",
    "        \n",
    "    data = pd.read_csv(filename, names = col_name, comment=\"#\", delimiter = \"\\t\", skipinitialspace = True)\n",
    "    \n",
    "    return data"
   ]
  },
  {
   "cell_type": "code",
   "execution_count": 3,
   "metadata": {},
   "outputs": [
    {
     "data": {
      "text/html": [
       "<div>\n",
       "<style scoped>\n",
       "    .dataframe tbody tr th:only-of-type {\n",
       "        vertical-align: middle;\n",
       "    }\n",
       "\n",
       "    .dataframe tbody tr th {\n",
       "        vertical-align: top;\n",
       "    }\n",
       "\n",
       "    .dataframe thead th {\n",
       "        text-align: right;\n",
       "    }\n",
       "</style>\n",
       "<table border=\"1\" class=\"dataframe\">\n",
       "  <thead>\n",
       "    <tr style=\"text-align: right;\">\n",
       "      <th></th>\n",
       "      <th>Subject</th>\n",
       "      <th>x</th>\n",
       "      <th>y</th>\n",
       "      <th>x_std</th>\n",
       "      <th>y_std</th>\n",
       "    </tr>\n",
       "  </thead>\n",
       "  <tbody>\n",
       "    <tr>\n",
       "      <td>0</td>\n",
       "      <td>6</td>\n",
       "      <td>5.709283</td>\n",
       "      <td>4.964045</td>\n",
       "      <td>0.000275</td>\n",
       "      <td>0.000415</td>\n",
       "    </tr>\n",
       "    <tr>\n",
       "      <td>1</td>\n",
       "      <td>7</td>\n",
       "      <td>5.252926</td>\n",
       "      <td>5.536569</td>\n",
       "      <td>0.000119</td>\n",
       "      <td>0.000354</td>\n",
       "    </tr>\n",
       "    <tr>\n",
       "      <td>2</td>\n",
       "      <td>8</td>\n",
       "      <td>3.699877</td>\n",
       "      <td>4.466423</td>\n",
       "      <td>0.000115</td>\n",
       "      <td>0.000212</td>\n",
       "    </tr>\n",
       "    <tr>\n",
       "      <td>3</td>\n",
       "      <td>9</td>\n",
       "      <td>2.314463</td>\n",
       "      <td>3.374987</td>\n",
       "      <td>0.000118</td>\n",
       "      <td>0.000121</td>\n",
       "    </tr>\n",
       "    <tr>\n",
       "      <td>4</td>\n",
       "      <td>10</td>\n",
       "      <td>0.481799</td>\n",
       "      <td>4.395972</td>\n",
       "      <td>0.000107</td>\n",
       "      <td>0.000185</td>\n",
       "    </tr>\n",
       "    <tr>\n",
       "      <td>5</td>\n",
       "      <td>11</td>\n",
       "      <td>3.150720</td>\n",
       "      <td>2.382949</td>\n",
       "      <td>0.000126</td>\n",
       "      <td>0.000138</td>\n",
       "    </tr>\n",
       "    <tr>\n",
       "      <td>6</td>\n",
       "      <td>12</td>\n",
       "      <td>4.063288</td>\n",
       "      <td>0.944294</td>\n",
       "      <td>0.000061</td>\n",
       "      <td>0.000134</td>\n",
       "    </tr>\n",
       "    <tr>\n",
       "      <td>7</td>\n",
       "      <td>13</td>\n",
       "      <td>2.680344</td>\n",
       "      <td>0.268352</td>\n",
       "      <td>0.000099</td>\n",
       "      <td>0.000095</td>\n",
       "    </tr>\n",
       "    <tr>\n",
       "      <td>8</td>\n",
       "      <td>14</td>\n",
       "      <td>0.948285</td>\n",
       "      <td>0.756013</td>\n",
       "      <td>0.000169</td>\n",
       "      <td>0.000151</td>\n",
       "    </tr>\n",
       "    <tr>\n",
       "      <td>9</td>\n",
       "      <td>15</td>\n",
       "      <td>3.762902</td>\n",
       "      <td>-2.030915</td>\n",
       "      <td>0.000115</td>\n",
       "      <td>0.000175</td>\n",
       "    </tr>\n",
       "    <tr>\n",
       "      <td>10</td>\n",
       "      <td>16</td>\n",
       "      <td>1.698368</td>\n",
       "      <td>-2.089669</td>\n",
       "      <td>0.000127</td>\n",
       "      <td>0.000147</td>\n",
       "    </tr>\n",
       "    <tr>\n",
       "      <td>11</td>\n",
       "      <td>17</td>\n",
       "      <td>0.035962</td>\n",
       "      <td>-2.843966</td>\n",
       "      <td>0.000087</td>\n",
       "      <td>0.000107</td>\n",
       "    </tr>\n",
       "    <tr>\n",
       "      <td>12</td>\n",
       "      <td>18</td>\n",
       "      <td>0.942914</td>\n",
       "      <td>-5.434457</td>\n",
       "      <td>0.000204</td>\n",
       "      <td>0.000533</td>\n",
       "    </tr>\n",
       "    <tr>\n",
       "      <td>13</td>\n",
       "      <td>19</td>\n",
       "      <td>2.590170</td>\n",
       "      <td>-5.522650</td>\n",
       "      <td>0.000050</td>\n",
       "      <td>0.000230</td>\n",
       "    </tr>\n",
       "    <tr>\n",
       "      <td>14</td>\n",
       "      <td>20</td>\n",
       "      <td>2.099399</td>\n",
       "      <td>-3.915272</td>\n",
       "      <td>0.000086</td>\n",
       "      <td>0.000123</td>\n",
       "    </tr>\n",
       "  </tbody>\n",
       "</table>\n",
       "</div>"
      ],
      "text/plain": [
       "    Subject         x         y     x_std     y_std\n",
       "0         6  5.709283  4.964045  0.000275  0.000415\n",
       "1         7  5.252926  5.536569  0.000119  0.000354\n",
       "2         8  3.699877  4.466423  0.000115  0.000212\n",
       "3         9  2.314463  3.374987  0.000118  0.000121\n",
       "4        10  0.481799  4.395972  0.000107  0.000185\n",
       "5        11  3.150720  2.382949  0.000126  0.000138\n",
       "6        12  4.063288  0.944294  0.000061  0.000134\n",
       "7        13  2.680344  0.268352  0.000099  0.000095\n",
       "8        14  0.948285  0.756013  0.000169  0.000151\n",
       "9        15  3.762902 -2.030915  0.000115  0.000175\n",
       "10       16  1.698368 -2.089669  0.000127  0.000147\n",
       "11       17  0.035962 -2.843966  0.000087  0.000107\n",
       "12       18  0.942914 -5.434457  0.000204  0.000533\n",
       "13       19  2.590170 -5.522650  0.000050  0.000230\n",
       "14       20  2.099399 -3.915272  0.000086  0.000123"
      ]
     },
     "execution_count": 3,
     "metadata": {},
     "output_type": "execute_result"
    }
   ],
   "source": [
    "loadFile(\"./MRCLAM_Dataset1/Landmark_Groundtruth.dat\")"
   ]
  },
  {
   "cell_type": "code",
   "execution_count": 4,
   "metadata": {},
   "outputs": [
    {
     "data": {
      "text/plain": [
       "\"\\nHow to deal with non time sync odometry and measurements\\n- email to clark?\\n- could potentially assume it's insignificant\\n\\nBig consideration\\n- Won't get a full measurement vector every time we correct!\\n- correct this line instead of correct the whole thing\\n\\n### Answers to design questions\\n\\nWhat do we want in our state vector:\\n- x, y, yaw\\n- use all 5 robots initially, see if run time blows up\\n\\nFor measurements\\n- x and y of all five robots (doesn't seem to be a way to correct yaw)\\n- ask about predicting yaw\\n\\nTime stamps across five robots might not be synced!\\n\\n\""
      ]
     },
     "execution_count": 4,
     "metadata": {},
     "output_type": "execute_result"
    }
   ],
   "source": [
    "'''\n",
    "How to deal with non time sync odometry and measurements\n",
    "- email to clark?\n",
    "- could potentially assume it's insignificant\n",
    "\n",
    "Big consideration\n",
    "- Won't get a full measurement vector every time we correct!\n",
    "- correct this line instead of correct the whole thing\n",
    "\n",
    "### Answers to design questions\n",
    "\n",
    "What do we want in our state vector:\n",
    "- x, y, yaw\n",
    "- use all 5 robots initially, see if run time blows up\n",
    "\n",
    "For measurements\n",
    "- x and y of all five robots (doesn't seem to be a way to correct yaw)\n",
    "- ask about predicting yaw\n",
    "\n",
    "Time stamps across five robots might not be synced!\n",
    "\n",
    "'''"
   ]
  },
  {
   "cell_type": "code",
   "execution_count": 5,
   "metadata": {},
   "outputs": [],
   "source": [
    "robot1_gt = loadFile(\"./MRCLAM_Dataset1/Robot1_Groundtruth.dat\")\n",
    "robot2_gt = loadFile(\"./MRCLAM_Dataset1/Robot2_Groundtruth.dat\")\n",
    "robot3_gt = loadFile(\"./MRCLAM_Dataset1/Robot3_Groundtruth.dat\")\n",
    "robot4_gt = loadFile(\"./MRCLAM_Dataset1/Robot4_Groundtruth.dat\")\n",
    "robot5_gt = loadFile(\"./MRCLAM_Dataset1/Robot5_Groundtruth.dat\")\n",
    "\n",
    "robot1_odo = loadFile(\"./MRCLAM_Dataset1/Robot1_Odometry.dat\")\n",
    "robot2_odo = loadFile(\"./MRCLAM_Dataset1/Robot2_Odometry.dat\")"
   ]
  },
  {
   "cell_type": "code",
   "execution_count": 6,
   "metadata": {},
   "outputs": [],
   "source": [
    "robot1_gt_x = robot1_gt['x'].to_numpy()\n",
    "robot2_gt_x = robot2_gt['x'].to_numpy()\n",
    "robot3_gt_x = robot3_gt['x'].to_numpy()\n",
    "robot4_gt_x = robot4_gt['x'].to_numpy()\n",
    "robot5_gt_x = robot5_gt['x'].to_numpy()\n",
    "\n",
    "robot1_gt_y = robot1_gt['y'].to_numpy()\n",
    "robot2_gt_y = robot2_gt['y'].to_numpy()\n",
    "robot3_gt_y = robot3_gt['y'].to_numpy()\n",
    "robot4_gt_y = robot4_gt['y'].to_numpy()\n",
    "robot5_gt_y = robot5_gt['y'].to_numpy()\n",
    "\n",
    "robot1_gt_time = robot1_gt['Time'].to_numpy()\n"
   ]
  },
  {
   "cell_type": "code",
   "execution_count": 7,
   "metadata": {},
   "outputs": [],
   "source": [
    "robot1_odo_time = robot1_odo['Time'].to_numpy()\n",
    "robot2_odo_time = robot2_odo['Time'].to_numpy()"
   ]
  },
  {
   "cell_type": "code",
   "execution_count": 8,
   "metadata": {},
   "outputs": [
    {
     "data": {
      "text/plain": [
       "0.015226205190834653"
      ]
     },
     "execution_count": 8,
     "metadata": {},
     "output_type": "execute_result"
    }
   ],
   "source": [
    "np.mean(robot1_odo_time[1:] - robot1_odo_time[:-1])"
   ]
  },
  {
   "cell_type": "code",
   "execution_count": 9,
   "metadata": {},
   "outputs": [
    {
     "data": {
      "text/plain": [
       "[<matplotlib.lines.Line2D at 0x1aa15f95b08>]"
      ]
     },
     "execution_count": 9,
     "metadata": {},
     "output_type": "execute_result"
    },
    {
     "data": {
      "image/png": "[encoded data removed]",
      "text/plain": [
       "<Figure size 432x288 with 1 Axes>"
      ]
     },
     "metadata": {
      "needs_background": "light"
     },
     "output_type": "display_data"
    }
   ],
   "source": [
    "plt.plot(robot1_gt_x, robot1_gt_y)\n",
    "plt.plot(robot2_gt_x, robot2_gt_y)\n",
    "plt.plot(robot3_gt_x, robot3_gt_y)\n",
    "plt.plot(robot4_gt_x, robot4_gt_y)\n",
    "plt.plot(robot5_gt_x, robot5_gt_y)"
   ]
  },
  {
   "cell_type": "code",
   "execution_count": 10,
   "metadata": {},
   "outputs": [
    {
     "data": {
      "text/plain": [
       "[<matplotlib.lines.Line2D at 0x1aa19f1a508>]"
      ]
     },
     "execution_count": 10,
     "metadata": {},
     "output_type": "execute_result"
    },
    {
     "data": {
      "image/png": "[encoded data removed]",
      "text/plain": [
       "<Figure size 432x288 with 1 Axes>"
      ]
     },
     "metadata": {
      "needs_background": "light"
     },
     "output_type": "display_data"
    }
   ],
   "source": [
    "plt.plot(robot1_gt_x, robot1_gt_y)\n"
   ]
  },
  {
   "cell_type": "code",
   "execution_count": 11,
   "metadata": {},
   "outputs": [
    {
     "data": {
      "text/plain": [
       "[<matplotlib.lines.Line2D at 0x1aa1a21f908>]"
      ]
     },
     "execution_count": 11,
     "metadata": {},
     "output_type": "execute_result"
    },
    {
     "data": {
      "image/png": "[encoded data removed]",
      "text/plain": [
       "<Figure size 432x288 with 1 Axes>"
      ]
     },
     "metadata": {
      "needs_background": "light"
     },
     "output_type": "display_data"
    }
   ],
   "source": [
    "plt.plot(robot1_gt_time - robot1_gt_time[0], robot1_gt_x)\n"
   ]
  },
  {
   "cell_type": "code",
   "execution_count": 12,
   "metadata": {},
   "outputs": [],
   "source": [
    "ts = robot1_gt_time[100] - robot1_gt_time[99] \n",
    "dx = robot1_gt_x[100] - robot1_gt_x[99]"
   ]
  },
  {
   "cell_type": "code",
   "execution_count": 13,
   "metadata": {},
   "outputs": [
    {
     "data": {
      "text/plain": [
       "-0.0007000016493032707"
      ]
     },
     "execution_count": 13,
     "metadata": {},
     "output_type": "execute_result"
    }
   ],
   "source": [
    "dx/ts"
   ]
  },
  {
   "cell_type": "code",
   "execution_count": 14,
   "metadata": {},
   "outputs": [
    {
     "data": {
      "text/plain": [
       "(-2.3800000000129273e-05, 0.03399991989135742)"
      ]
     },
     "execution_count": 14,
     "metadata": {},
     "output_type": "execute_result"
    }
   ],
   "source": [
    "dx, ts"
   ]
  },
  {
   "cell_type": "code",
   "execution_count": 15,
   "metadata": {},
   "outputs": [
    {
     "data": {
      "text/plain": [
       "array([3.5732324, 3.5732247, 3.573238 , ..., 1.9074724, 1.9067457,\n",
       "       1.9062726])"
      ]
     },
     "execution_count": 15,
     "metadata": {},
     "output_type": "execute_result"
    }
   ],
   "source": [
    "robot1_gt_x"
   ]
  },
  {
   "cell_type": "code",
   "execution_count": 16,
   "metadata": {},
   "outputs": [
    {
     "data": {
      "text/html": [
       "<div>\n",
       "<style scoped>\n",
       "    .dataframe tbody tr th:only-of-type {\n",
       "        vertical-align: middle;\n",
       "    }\n",
       "\n",
       "    .dataframe tbody tr th {\n",
       "        vertical-align: top;\n",
       "    }\n",
       "\n",
       "    .dataframe thead th {\n",
       "        text-align: right;\n",
       "    }\n",
       "</style>\n",
       "<table border=\"1\" class=\"dataframe\">\n",
       "  <thead>\n",
       "    <tr style=\"text-align: right;\">\n",
       "      <th></th>\n",
       "      <th>Time</th>\n",
       "      <th>Forward Velocity</th>\n",
       "      <th>Angular Velocity</th>\n",
       "    </tr>\n",
       "  </thead>\n",
       "  <tbody>\n",
       "    <tr>\n",
       "      <td>0</td>\n",
       "      <td>1.248272e+09</td>\n",
       "      <td>0.074</td>\n",
       "      <td>0.229</td>\n",
       "    </tr>\n",
       "    <tr>\n",
       "      <td>1</td>\n",
       "      <td>1.248272e+09</td>\n",
       "      <td>0.074</td>\n",
       "      <td>0.229</td>\n",
       "    </tr>\n",
       "    <tr>\n",
       "      <td>2</td>\n",
       "      <td>1.248272e+09</td>\n",
       "      <td>0.074</td>\n",
       "      <td>0.229</td>\n",
       "    </tr>\n",
       "    <tr>\n",
       "      <td>3</td>\n",
       "      <td>1.248272e+09</td>\n",
       "      <td>0.074</td>\n",
       "      <td>0.229</td>\n",
       "    </tr>\n",
       "    <tr>\n",
       "      <td>4</td>\n",
       "      <td>1.248272e+09</td>\n",
       "      <td>0.074</td>\n",
       "      <td>0.229</td>\n",
       "    </tr>\n",
       "    <tr>\n",
       "      <td>...</td>\n",
       "      <td>...</td>\n",
       "      <td>...</td>\n",
       "      <td>...</td>\n",
       "    </tr>\n",
       "    <tr>\n",
       "      <td>97885</td>\n",
       "      <td>1.248274e+09</td>\n",
       "      <td>0.061</td>\n",
       "      <td>0.000</td>\n",
       "    </tr>\n",
       "    <tr>\n",
       "      <td>97886</td>\n",
       "      <td>1.248274e+09</td>\n",
       "      <td>0.060</td>\n",
       "      <td>0.000</td>\n",
       "    </tr>\n",
       "    <tr>\n",
       "      <td>97887</td>\n",
       "      <td>1.248274e+09</td>\n",
       "      <td>0.060</td>\n",
       "      <td>0.000</td>\n",
       "    </tr>\n",
       "    <tr>\n",
       "      <td>97888</td>\n",
       "      <td>1.248274e+09</td>\n",
       "      <td>0.060</td>\n",
       "      <td>0.000</td>\n",
       "    </tr>\n",
       "    <tr>\n",
       "      <td>97889</td>\n",
       "      <td>1.248274e+09</td>\n",
       "      <td>0.061</td>\n",
       "      <td>0.000</td>\n",
       "    </tr>\n",
       "  </tbody>\n",
       "</table>\n",
       "<p>97890 rows × 3 columns</p>\n",
       "</div>"
      ],
      "text/plain": [
       "               Time  Forward Velocity  Angular Velocity\n",
       "0      1.248272e+09             0.074             0.229\n",
       "1      1.248272e+09             0.074             0.229\n",
       "2      1.248272e+09             0.074             0.229\n",
       "3      1.248272e+09             0.074             0.229\n",
       "4      1.248272e+09             0.074             0.229\n",
       "...             ...               ...               ...\n",
       "97885  1.248274e+09             0.061             0.000\n",
       "97886  1.248274e+09             0.060             0.000\n",
       "97887  1.248274e+09             0.060             0.000\n",
       "97888  1.248274e+09             0.060             0.000\n",
       "97889  1.248274e+09             0.061             0.000\n",
       "\n",
       "[97890 rows x 3 columns]"
      ]
     },
     "execution_count": 16,
     "metadata": {},
     "output_type": "execute_result"
    }
   ],
   "source": [
    "robot1_odo"
   ]
  },
  {
   "cell_type": "markdown",
   "metadata": {},
   "source": [
    "## Helper Functions and Intialization Calculations"
   ]
  },
  {
   "cell_type": "code",
   "execution_count": 17,
   "metadata": {},
   "outputs": [],
   "source": [
    "def wrap_to_pi(angle):\n",
    "    \"\"\"Wrap angle data in radians to [-pi, pi]\n",
    "\n",
    "    Parameters:\n",
    "    angle (float)   -- unwrapped angle\n",
    "\n",
    "    Returns:\n",
    "    angle (float)   -- wrapped angle\n",
    "    \"\"\"\n",
    "    while angle >= math.pi:\n",
    "        angle -= 2*math.pi\n",
    "\n",
    "    while angle <= -math.pi:\n",
    "        angle += 2*math.pi\n",
    "    return angle"
   ]
  },
  {
   "cell_type": "code",
   "execution_count": 18,
   "metadata": {},
   "outputs": [],
   "source": [
    "def generateBarcodeDictionary(filename):\n",
    "    \"\"\"\n",
    "    \"\"\"\n",
    "    barcode_data = loadFile(filename)\n",
    "    sub = barcode_data['Subject'].to_numpy()\n",
    "    bar = barcode_data['Barcode'].to_numpy()\n",
    "    \n",
    "    bar_dict = {}\n",
    "    \n",
    "    for i in range(len(sub)):\n",
    "        bar_dict[bar[i]] = sub[i]\n",
    "        \n",
    "    return bar_dict"
   ]
  },
  {
   "cell_type": "code",
   "execution_count": 19,
   "metadata": {},
   "outputs": [
    {
     "name": "stdout",
     "output_type": "stream",
     "text": [
      "{5: 1, 14: 2, 41: 3, 32: 4, 23: 5, 72: 6, 27: 7, 54: 8, 70: 9, 36: 10, 18: 11, 25: 12, 9: 13, 81: 14, 16: 15, 90: 16, 61: 17, 45: 18, 7: 19, 63: 20}\n"
     ]
    }
   ],
   "source": [
    "barcode_dictionary = generateBarcodeDictionary(\"./MRCLAM_Dataset1/Barcodes.dat\")\n",
    "print(barcode_dictionary)"
   ]
  },
  {
   "cell_type": "code",
   "execution_count": 20,
   "metadata": {},
   "outputs": [],
   "source": [
    "def barcode2subject(barcode, barcode_dictionary):\n",
    "    \"\"\"\n",
    "    \"\"\"\n",
    "    \n",
    "    return barcode_dictionary[barcode]"
   ]
  },
  {
   "cell_type": "code",
   "execution_count": 21,
   "metadata": {},
   "outputs": [
    {
     "data": {
      "text/plain": [
       "20"
      ]
     },
     "execution_count": 21,
     "metadata": {},
     "output_type": "execute_result"
    }
   ],
   "source": [
    "barcode2subject(63, barcode_dictionary)"
   ]
  },
  {
   "cell_type": "markdown",
   "metadata": {
    "collapsed": true
   },
   "source": [
    "## Prediction Step Functions"
   ]
  },
  {
   "cell_type": "code",
   "execution_count": 22,
   "metadata": {},
   "outputs": [],
   "source": [
    "def propogateState(x_t_prev, u_t, dt):\n",
    "    \"\"\"\n",
    "    \"\"\"\n",
    "    angle = x_t_prev[2]\n",
    "    \n",
    "    A = np.eye(3)\n",
    "    \n",
    "    B = np.array([[dt*np.cos(angle), 0],\n",
    "                  [dt*np.sin(angle), 0],\n",
    "                  [0, dt]])\n",
    "    \n",
    "    x_bar_t = A@x_t_prev + B@u_t\n",
    "    \n",
    "    #correction with wrap to pi on the third element\n",
    "    x_bar_t[2] = wrap_to_pi((A@x_t_prev)[2] + (B@u_t)[2])\n",
    "    \n",
    "    return x_bar_t"
   ]
  },
  {
   "cell_type": "code",
   "execution_count": 23,
   "metadata": {},
   "outputs": [],
   "source": [
    "def getGx(x_t_prev, u_t, dt):\n",
    "    \"\"\"\n",
    "    \"\"\"\n",
    "    v_t = u_t[0]\n",
    "    angle = x_t_prev[2]\n",
    "    \n",
    "    Gx = np.array([[1, 0, -dt*v_t*np.sin(angle)],\n",
    "                   [0, 1, dt*v_t*np.cos(angle)],\n",
    "                   [0, 0, 1]])\n",
    "    \n",
    "    return Gx"
   ]
  },
  {
   "cell_type": "code",
   "execution_count": 24,
   "metadata": {},
   "outputs": [],
   "source": [
    "def getGu(x_t_prev, u_t, dt):\n",
    "    \"\"\"\n",
    "    \"\"\"\n",
    "    angle = x_t_prev[2]\n",
    "    \n",
    "    Gu = np.array([[dt*np.cos(angle), 0],\n",
    "                   [dt*np.sin(angle), 0],\n",
    "                   [0, dt]])\n",
    "    \n",
    "    return Gu"
   ]
  },
  {
   "cell_type": "code",
   "execution_count": 25,
   "metadata": {},
   "outputs": [],
   "source": [
    "def predictionStep(x_t_prev, sigma_t_prev, u_t, sigma_u_t, dt):\n",
    "    \"\"\"\n",
    "    \"\"\"\n",
    "    #propogate the state\n",
    "    x_bar_t = propogateState(x_t_prev, u_t, dt)\n",
    "    \n",
    "    #get motion model jacobians\n",
    "    Gx = getGx(x_t_prev, u_t, dt)\n",
    "    Gu = getGu(x_t_prev, u_t, dt)\n",
    "    \n",
    "    #propagate the covariance matrix\n",
    "    sigma_x_bar_t = Gx @ sigma_t_prev @ Gx.transpose() + Gu @ sigma_u_t @ Gu.transpose()\n",
    "    \n",
    "    return x_bar_t, sigma_x_bar_t"
   ]
  },
  {
   "cell_type": "markdown",
   "metadata": {},
   "source": [
    "## Correction Step Functions"
   ]
  },
  {
   "cell_type": "code",
   "execution_count": 26,
   "metadata": {},
   "outputs": [],
   "source": [
    "def getHt(x_bar_t):\n",
    "    \"\"\"\n",
    "    \"\"\"\n",
    "    \n",
    "    H_t = np.array([[1, 0, 0],\n",
    "                    [0, 1, 0]])\n",
    "    \n",
    "    return H_t"
   ]
  },
  {
   "cell_type": "code",
   "execution_count": 27,
   "metadata": {},
   "outputs": [],
   "source": [
    "def getKalmanGain(sigma_x_bar_t, H_t, sigma_z_t):\n",
    "    \"\"\"\n",
    "    \"\"\"\n",
    "    #calculate the denominator of the kalman gain\n",
    "    denominator = np.linalg.inv(H_t @ sigma_x_bar_t @ H_t.transpose() + sigma_z_t)\n",
    "    \n",
    "    #finish the calculation\n",
    "    K_t = sigma_x_bar_t @ H_t.transpose() @ denominator\n",
    "    \n",
    "    return K_t"
   ]
  },
  {
   "cell_type": "code",
   "execution_count": 28,
   "metadata": {},
   "outputs": [],
   "source": [
    "def predMeasurement(x_bar_t):\n",
    "    \"\"\"\n",
    "    \"\"\"\n",
    "    \n",
    "    z_t_pred = x_bar_t[0:2]\n",
    "    \n",
    "    return z_t_pred"
   ]
  },
  {
   "cell_type": "code",
   "execution_count": 156,
   "metadata": {},
   "outputs": [],
   "source": [
    "def correctionStep(x_bar_t, sigma_x_bar_t, Z_t, sigma_z_t):\n",
    "    \"\"\"\n",
    "    \"\"\"\n",
    "    #retrieve needed values for the calculation\n",
    "    H_t = getHt(x_bar_t)\n",
    "    K_t = getKalmanGain(sigma_x_bar_t, H_t, sigma_z_t)\n",
    "    pred_meas = predMeasurement(x_bar_t)\n",
    "    \n",
    "    #correction step\n",
    "    \n",
    "#     print(\"x_bar_t: \", x_bar_t.shape)\n",
    "#     print(\"K_t: \", K_t.shape)\n",
    "#     print(\"Z_t: \", Z_t.shape)\n",
    "#     print(\"pred_meas: \", pred_meas.shape)\n",
    "    \n",
    "    \n",
    "    x_t = x_bar_t + K_t@(Z_t - pred_meas)\n",
    "    x_t[2] = wrap_to_pi(x_bar_t[2] + (K_t@(Z_t - pred_meas))[2]) #fix angle?\n",
    "    \n",
    "    sigma_x_t = (np.identity(len(x_t)) - K_t@H_t)@sigma_x_bar_t\n",
    "    \n",
    "    return x_t, sigma_x_t"
   ]
  },
  {
   "cell_type": "markdown",
   "metadata": {},
   "source": [
    "## Main function and Related Helpers"
   ]
  },
  {
   "cell_type": "code",
   "execution_count": 30,
   "metadata": {},
   "outputs": [],
   "source": [
    "def orderOfPredictionList(folder_name):\n",
    "    \"\"\"\n",
    "    \"\"\"\n",
    "    \n",
    "    robot1_odo = loadFile(\"./\" + folder_name+ \"/Robot1_Odometry.dat\")\n",
    "    robot2_odo = loadFile(\"./\" + folder_name+ \"/Robot2_Odometry.dat\")\n",
    "    robot3_odo = loadFile(\"./\" + folder_name+ \"/Robot3_Odometry.dat\")\n",
    "    robot4_odo = loadFile(\"./\" + folder_name+ \"/Robot4_Odometry.dat\")\n",
    "    robot5_odo = loadFile(\"./\" + folder_name+ \"/Robot5_Odometry.dat\")\n",
    "    \n",
    "    ts_1 = robot1_odo.to_numpy()\n",
    "    ts_2 = robot2_odo.to_numpy()\n",
    "    ts_3 = robot3_odo.to_numpy()\n",
    "    ts_4 = robot4_odo.to_numpy()\n",
    "    ts_5 = robot5_odo.to_numpy()\n",
    "    \n",
    "    LoTs = [ts_1, ts_2, ts_3, ts_4, ts_5]\n",
    "    Tuple_list = []\n",
    "    \n",
    "    for robot in range(5):\n",
    "        currList = LoTs[robot]\n",
    "        for t in range(len(currList)):\n",
    "            Tuple_list.append((currList[t][0], robot, currList[t][1], currList[t][2]))\n",
    "            \n",
    "    Tuple_list.sort()\n",
    "    \n",
    "    return Tuple_list, [len(ts_1), len(ts_2), len(ts_3), len(ts_4), len(ts_5)]\n",
    "    "
   ]
  },
  {
   "cell_type": "code",
   "execution_count": 31,
   "metadata": {},
   "outputs": [],
   "source": [
    "odoTS, odoTSLen = orderOfPredictionList(\"MRCLAM_Dataset1\")"
   ]
  },
  {
   "cell_type": "code",
   "execution_count": 32,
   "metadata": {},
   "outputs": [],
   "source": [
    "def groundTruthLandmarksDict(folder_name):\n",
    "    \n",
    "    # col_name = ['Subject', 'x', 'y', 'x_std', 'y_std']\n",
    "    landmark_gt = loadFile(\"./\" + folder_name + \"/Landmark_Groundtruth.dat\")\n",
    "    \n",
    "    landmark_dict = {}\n",
    "    \n",
    "    subject = landmark_gt['Subject'].to_numpy()\n",
    "    x = landmark_gt['x'].to_numpy()\n",
    "    y = landmark_gt['y'].to_numpy()\n",
    "    x_std = landmark_gt['x_std'].to_numpy()\n",
    "    y_std = landmark_gt['y_std'].to_numpy()\n",
    "    \n",
    "    for i in range(len(subject)):\n",
    "        landmark_dict[subject[i]] = (x[i], y[i], x_std[i], y_std[i])\n",
    "        \n",
    "    return landmark_dict\n",
    "    \n",
    "    "
   ]
  },
  {
   "cell_type": "code",
   "execution_count": 33,
   "metadata": {},
   "outputs": [],
   "source": [
    "landmark_dictionary = groundTruthLandmarksDict('MRCLAM_Dataset1')"
   ]
  },
  {
   "cell_type": "code",
   "execution_count": 34,
   "metadata": {},
   "outputs": [],
   "source": [
    "def groundTruthDataDict(folder_name):\n",
    "    '''\n",
    "    NOTE: ROBOT IS ZERO INDEXED SO Robot = subject - 1\n",
    "    '''\n",
    "    \n",
    "    robot1_gt = loadFile(\"./\" + folder_name + \"/Robot1_Groundtruth.dat\")\n",
    "    robot2_gt = loadFile(\"./\" + folder_name + \"/Robot2_Groundtruth.dat\")\n",
    "    robot3_gt = loadFile(\"./\" + folder_name + \"/Robot3_Groundtruth.dat\")\n",
    "    robot4_gt = loadFile(\"./\" + folder_name + \"/Robot4_Groundtruth.dat\")\n",
    "    robot5_gt = loadFile(\"./\" + folder_name + \"/Robot5_Groundtruth.dat\")\n",
    "    \n",
    "    gt_dict = {}\n",
    "    \n",
    "    # NOTE: ROBOT IS ZERO INDEXED SO Robot = subject - 1\n",
    "    gt_dict[0] = robot1_gt.to_numpy()\n",
    "    gt_dict[1] = robot2_gt.to_numpy()\n",
    "    gt_dict[2] = robot3_gt.to_numpy()\n",
    "    gt_dict[3] = robot4_gt.to_numpy()\n",
    "    gt_dict[4] = robot5_gt.to_numpy()\n",
    "    \n",
    "    return gt_dict\n",
    "    "
   ]
  },
  {
   "cell_type": "code",
   "execution_count": 35,
   "metadata": {},
   "outputs": [],
   "source": [
    "gt_dictionary = groundTruthDataDict('MRCLAM_Dataset1')"
   ]
  },
  {
   "cell_type": "code",
   "execution_count": 36,
   "metadata": {},
   "outputs": [],
   "source": [
    "def getInitialState(folder_name, numRobots = 5, numStates = 3):\n",
    "    \n",
    "    robot1_gt = loadFile(\"./\" + folder_name+ \"/Robot1_Groundtruth.dat\")\n",
    "    robot2_gt = loadFile(\"./\" + folder_name+ \"/Robot2_Groundtruth.dat\")\n",
    "    robot3_gt = loadFile(\"./\" + folder_name+ \"/Robot3_Groundtruth.dat\")\n",
    "    robot4_gt = loadFile(\"./\" + folder_name+ \"/Robot4_Groundtruth.dat\")\n",
    "    robot5_gt = loadFile(\"./\" + folder_name+ \"/Robot5_Groundtruth.dat\")\n",
    "    \n",
    "    robot1_gt_x = robot1_gt['x'].to_numpy()\n",
    "    robot2_gt_x = robot2_gt['x'].to_numpy()\n",
    "    robot3_gt_x = robot3_gt['x'].to_numpy()\n",
    "    robot4_gt_x = robot4_gt['x'].to_numpy()\n",
    "    robot5_gt_x = robot5_gt['x'].to_numpy()\n",
    "\n",
    "    robot1_gt_y = robot1_gt['y'].to_numpy()\n",
    "    robot2_gt_y = robot2_gt['y'].to_numpy()\n",
    "    robot3_gt_y = robot3_gt['y'].to_numpy()\n",
    "    robot4_gt_y = robot4_gt['y'].to_numpy()\n",
    "    robot5_gt_y = robot5_gt['y'].to_numpy()\n",
    "    \n",
    "    robot1_gt_yaw = robot1_gt['orientation'].to_numpy()\n",
    "    robot2_gt_yaw = robot2_gt['orientation'].to_numpy()\n",
    "    robot3_gt_yaw = robot3_gt['orientation'].to_numpy()\n",
    "    robot4_gt_yaw = robot4_gt['orientation'].to_numpy()\n",
    "    robot5_gt_yaw = robot5_gt['orientation'].to_numpy()\n",
    "    \n",
    "    initialStates = np.zeros((numRobots, numStates))\n",
    "    \n",
    "    initialStates[0] = np.array([robot1_gt_x[0], robot1_gt_y[0], robot1_gt_yaw[0]])\n",
    "    initialStates[1] = np.array([robot2_gt_x[0], robot2_gt_y[0], robot2_gt_yaw[0]])\n",
    "    initialStates[2] = np.array([robot3_gt_x[0], robot3_gt_y[0], robot3_gt_yaw[0]])\n",
    "    initialStates[3] = np.array([robot4_gt_x[0], robot4_gt_y[0], robot4_gt_yaw[0]])\n",
    "    initialStates[4] = np.array([robot5_gt_x[0], robot5_gt_y[0], robot5_gt_yaw[0]])\n",
    "    \n",
    "    return initialStates\n",
    "    \n",
    "    "
   ]
  },
  {
   "cell_type": "code",
   "execution_count": 37,
   "metadata": {},
   "outputs": [],
   "source": [
    "def getMeasurements(folder_name, acceptedBarcodes):\n",
    "    \n",
    "    robot1_meas = loadFile(\"./\" + folder_name + \"/Robot1_Measurement.dat\").to_numpy()\n",
    "    robot2_meas = loadFile(\"./\" + folder_name + \"/Robot2_Measurement.dat\").to_numpy()\n",
    "    robot3_meas = loadFile(\"./\" + folder_name + \"/Robot3_Measurement.dat\").to_numpy()\n",
    "    robot4_meas = loadFile(\"./\" + folder_name + \"/Robot4_Measurement.dat\").to_numpy()\n",
    "    robot5_meas = loadFile(\"./\" + folder_name + \"/Robot5_Measurement.dat\").to_numpy()\n",
    "    \n",
    "    logicalIdx1 = np.zeros(len(robot1_meas), dtype = bool)\n",
    "    logicalIdx2 = np.zeros(len(robot2_meas), dtype = bool)\n",
    "    logicalIdx3 = np.zeros(len(robot3_meas), dtype = bool)\n",
    "    logicalIdx4 = np.zeros(len(robot4_meas), dtype = bool)\n",
    "    logicalIdx5 = np.zeros(len(robot5_meas), dtype = bool)\n",
    "    \n",
    "    for i in range(len(acceptedBarcodes)):\n",
    "        logicalIdx1 = logicalIdx1 | (robot1_meas[:,1] == acceptedBarcodes[i])\n",
    "        logicalIdx2 = logicalIdx2 | (robot2_meas[:,1] == acceptedBarcodes[i])\n",
    "        logicalIdx3 = logicalIdx3 | (robot3_meas[:,1] == acceptedBarcodes[i])\n",
    "        logicalIdx4 = logicalIdx4 | (robot4_meas[:,1] == acceptedBarcodes[i])\n",
    "        logicalIdx5 = logicalIdx5 | (robot5_meas[:,1] == acceptedBarcodes[i])\n",
    "    \n",
    "    return robot1_meas[logicalIdx1], robot2_meas[logicalIdx2], robot3_meas[logicalIdx3], robot4_meas[logicalIdx4], robot5_meas[logicalIdx5]\n",
    "    "
   ]
  },
  {
   "cell_type": "code",
   "execution_count": 38,
   "metadata": {},
   "outputs": [],
   "source": [
    "def checkForMeasurement(robotMeasurement, prevTS, curTS, curMeasurementIdx):\n",
    "    '''\n",
    "    prevTS = curTS (?)\n",
    "    curTS = curTS + DT (?)\n",
    "    NOTE: don't use that\n",
    "    '''\n",
    "    \n",
    "    validMeasurements = (robotMeasurement[:,0] >= prevTS) & (robotMeasurement[:,0] <= curTS)\n",
    "    \n",
    "    if not np.any(validMeasurements):\n",
    "        return False, validMeasurements, curMeasurementIdx\n",
    "    \n",
    "    return True, validMeasurements, curMeasurementIdx + np.sum(validMeasurements)"
   ]
  },
  {
   "cell_type": "code",
   "execution_count": 39,
   "metadata": {},
   "outputs": [],
   "source": [
    "def convertMeasurements(robotMeasurements, robotStates, predictionTimes, robotIdx, measIdx, predAngle, barcode_dictionary, landmark_dictionary):\n",
    "    \"\"\"\n",
    "    \"\"\"\n",
    "    \n",
    "    \n",
    "    measurements = robotMeasurements[measIdx]\n",
    "    \n",
    "    numMeasurements = np.sum(measIdx)\n",
    "    \n",
    "    \n",
    "    Zx = 0\n",
    "    Zy = 0\n",
    "    for i in range(numMeasurements):\n",
    "        \n",
    "        #retrieve the state estimate of x, y for the measured entity\n",
    "        subject = barcode2subject(measurements[i][1], barcode_dictionary)\n",
    "        \n",
    "        if subject < 6:\n",
    "            subject = subject - 1 # ROBOT IS ZERO INDEXED\n",
    "            measX = robotStates[subject][0]\n",
    "            measY = robotStates[subject][1]\n",
    "        else:\n",
    "            measX, measY, _, _ = landmark_dictionary[subject]\n",
    "\n",
    "#         print(\"thing:\", measurements[i][2])\n",
    "#         print(\"measRobotX: \", measRobotX)\n",
    "        \n",
    "        angle = wrap_to_pi(predAngle + measurements[i][3])\n",
    "        Zx += measX - measurements[i][2]*np.cos(angle)\n",
    "        Zy += measY - measurements[i][2]*np.sin(angle)\n",
    "        \n",
    "#     print(\"Zx: \", Zx)\n",
    "#     print(\"Zy: \", Zy)\n",
    "        \n",
    "    Zx = Zx / numMeasurements\n",
    "    Zy = Zy / numMeasurements\n",
    "    \n",
    "    return np.array([Zx, Zy])"
   ]
  },
  {
   "cell_type": "code",
   "execution_count": 261,
   "metadata": {},
   "outputs": [
    {
     "name": "stdout",
     "output_type": "stream",
     "text": [
      "-0.1514901661779584 -0.1306473355286828\n"
     ]
    }
   ],
   "source": [
    "measX = 5.70928255 \n",
    "measY = 4.96404466\n",
    "\n",
    "#robot is at 0, 0, 0\n",
    "Zx = 0\n",
    "Zy = 0\n",
    "predAngle = 0\n",
    "bearing = 41*np.pi/180\n",
    "angle = wrap_to_pi(predAngle + bearing)\n",
    "rangeMeas = 7.7656\n",
    "Zx += measX - rangeMeas*np.cos(angle)\n",
    "Zy += measY - rangeMeas*np.sin(angle)\n",
    "print(Zx, Zy)"
   ]
  },
  {
   "cell_type": "code",
   "execution_count": 40,
   "metadata": {},
   "outputs": [],
   "source": [
    "def getClosestYaw(gt_data, curTS):\n",
    "    '''\n",
    "    Assuming we're passing in the right gt_data for the robot\n",
    "    \n",
    "    NOTE: ROBOT IS ZERO INDEXED SO Robot = subject - 1\n",
    "    '''\n",
    "    \n",
    "    timestamps = gt_data[:, 0]\n",
    "    \n",
    "    calcAbsDiff = np.abs(timestamps - curTS)\n",
    "    closestIdx = np.argmin(calcAbsDiff)\n",
    "    \n",
    "    closestYaw = gt_data[closestIdx, 3]\n",
    "    \n",
    "    return closestYaw\n",
    "    "
   ]
  },
  {
   "cell_type": "code",
   "execution_count": 222,
   "metadata": {},
   "outputs": [],
   "source": [
    "def getSigmaU(robot):\n",
    "    \"\"\"\n",
    "    \"\"\"\n",
    "    \n",
    "    sigma = np.eye(2)*0.1\n",
    "    return sigma"
   ]
  },
  {
   "cell_type": "code",
   "execution_count": 223,
   "metadata": {},
   "outputs": [],
   "source": [
    "def getSigmaZ(robot):\n",
    "    \"\"\"\n",
    "    \"\"\"\n",
    "    sigma = np.eye(2)*0.1\n",
    "    return sigma"
   ]
  },
  {
   "cell_type": "code",
   "execution_count": 224,
   "metadata": {},
   "outputs": [],
   "source": [
    "def getError(robot_gt, robot_est, robot_ts):\n",
    "    \n",
    "    gt_idx = 0\n",
    "    gt_timestamps = robot_gt[:,0]\n",
    "    \n",
    "    x_error = np.zeros(len(robot_ts))\n",
    "    y_error = np.zeros(len(robot_ts))\n",
    "    theta_error = np.zeros(len(robot_ts))\n",
    "    euclidean_error = np.zeros(len(robot_ts))\n",
    "    \n",
    "    for i in range(len(robot_ts)):\n",
    "        curTS = robot_ts[i]\n",
    "                \n",
    "        calcAbsDiff = np.abs(gt_timestamps - curTS)\n",
    "        gt_idx = np.argmin(calcAbsDiff)\n",
    "\n",
    "        _, x_gt, y_gt, theta_gt = robot_gt[gt_idx]\n",
    "        x, y, theta = robot_est[:, i]\n",
    "\n",
    "        x_error[i] = x - x_gt\n",
    "        y_error[i] = y - y_gt\n",
    "        theta_error[i] = theta - theta_gt\n",
    "#         print()\n",
    "#         print('curTS ', curTS)\n",
    "#         print('gt_idx ', gt_idx)\n",
    "#         print('x_gt: ', x_gt)\n",
    "#         print('y_gt: ', y_gt)\n",
    "#         print('theta gt: ', theta_gt)\n",
    "#         print()\n",
    "\n",
    "        euclidean_error[i] = np.sqrt(np.square(x - x_gt) + np.square(y - y_gt))\n",
    "        \n",
    "    return x_error, y_error, theta_error, euclidean_error"
   ]
  },
  {
   "cell_type": "code",
   "execution_count": 250,
   "metadata": {},
   "outputs": [],
   "source": [
    "def calcRMSE(residuals):\n",
    "    \"\"\"\n",
    "    \"\"\"\n",
    "    \n",
    "    RMSE = np.sum(np.square(residuals))/len(residuals)\n",
    "    return RMSE"
   ]
  },
  {
   "cell_type": "code",
   "execution_count": 283,
   "metadata": {},
   "outputs": [],
   "source": [
    "def main(odoTS, odoTSLen, barcode_dictionary, landmark_dictionary, gt_dictionary):\n",
    "    \"\"\"\n",
    "    \"\"\"\n",
    "    \n",
    "    last_timestep = np.zeros(5)\n",
    "    \n",
    "    #dt = 1/67 # May be changed later\n",
    "    \n",
    "    # Initialize States and Covars\n",
    "    N = 3 # Number of states\n",
    "    numRobots = 5\n",
    "    \n",
    "    state_est_t_prev = getInitialState(\"MRCLAM_Dataset1\", numRobots, N)\n",
    "    var_est_t_prev = np.array([np.eye(3), np.eye(3), np.eye(3), np.eye(3), np.eye(3)]) # Hardcoded for 5 robots\n",
    "    \n",
    "    log_idx = np.zeros(numRobots, dtype=int)\n",
    "    state_estimates = {}\n",
    "    covariance_estimates = {}\n",
    "    timesMoreMeas = 0\n",
    "    \n",
    "    est_times = {}\n",
    "#     est_times[0] = []\n",
    "#     est_times[1] = []\n",
    "#     est_times[2] = []\n",
    "#     est_times[3] = []\n",
    "#     est_times[4] = []\n",
    "    measuredCorrections = {}\n",
    "    \n",
    "    for i in range(numRobots):\n",
    "        # Initialize state and covar logs for each robot\n",
    "        stateLogRobotI = np.empty((N, odoTSLen[i]))\n",
    "        covarLogRobotI = np.empty((N, N, odoTSLen[i]))\n",
    "        \n",
    "        # Throw them into the dictionary and cry\n",
    "        state_estimates[i] = stateLogRobotI\n",
    "        covariance_estimates[i] = covarLogRobotI\n",
    "        est_times[i] = np.empty(odoTSLen[i])\n",
    "        measuredCorrections[i] = np.zeros(odoTSLen[i], dtype = bool)\n",
    "    \n",
    "    # 5, 14, 41, 32, 23,\n",
    "    measurements = getMeasurements('MRCLAM_Dataset1', [72, 27, 54, 70, 36, 18, 25, 9, 81, 16, 90, 61, 45, 7, 63])\n",
    "    nextMeasurementIndex = np.zeros(5)\n",
    "    \n",
    "    \n",
    "    for i in range(len(odoTS)):\n",
    "        curTS, robot, v, w = odoTS[i]\n",
    "#         est_times[robot].append(curTS)\n",
    "        \n",
    "        # Making dt variable\n",
    "        if last_timestep[robot] == 0:\n",
    "            dt = 1/67\n",
    "        else:\n",
    "            dt = curTS - last_timestep[robot]\n",
    "                    \n",
    "        # Prediction Step\n",
    "        u_t = np.array([v, w])\n",
    "        sigma_u_t = getSigmaU(robot) # Need to write this shit\n",
    "        x_bar_t, sigma_x_bar_t = predictionStep(state_est_t_prev[robot], var_est_t_prev[robot], u_t, sigma_u_t, dt)\n",
    "        \n",
    "        # Correction Step\n",
    "        # Check if measurement is between last and curTS\n",
    "        \n",
    "        meas_exists, validMeasurements, nextMeasurementIndex[robot] = checkForMeasurement(measurements[robot], last_timestep[robot], curTS, nextMeasurementIndex[robot])\n",
    "\n",
    "        if meas_exists: \n",
    "            \n",
    "            if np.sum(validMeasurements) > 1:\n",
    "                timesMoreMeas += 1\n",
    "            \n",
    "            #fuse measurements together\n",
    "            Z_t = convertMeasurements(measurements[robot], state_est_t_prev, last_timestep, robot, validMeasurements, x_bar_t[2], barcode_dictionary, landmark_dictionary)\n",
    "            \n",
    "            #get designated meas covar\n",
    "            sigma_z_t = getSigmaZ(robot)\n",
    "            \n",
    "            #perform corretion step\n",
    "            x_t, sigma_x_t = correctionStep(x_bar_t, sigma_x_bar_t, Z_t, sigma_z_t)\n",
    "            \n",
    "            measuredCorrections[robot][log_idx[robot]] = True\n",
    "            \n",
    "        else:\n",
    "            \n",
    "            #estiamte is just the prediction \n",
    "            x_t = x_bar_t\n",
    "            sigma_x_t = sigma_x_bar_t\n",
    "            \n",
    "        # For shits and giggles let's use gt yaw\n",
    "        x_t[2] = getClosestYaw(gt_dictionary[robot], curTS)\n",
    "            \n",
    "        #update last time step\n",
    "        last_timestep[robot] = curTS\n",
    "        \n",
    "        #update prev vectors\n",
    "        state_est_t_prev[robot] = x_t\n",
    "        var_est_t_prev[robot] = sigma_x_t\n",
    "        \n",
    "        #log data\n",
    "        state_estimates[robot][:, log_idx[robot]] = x_t\n",
    "        covariance_estimates[robot][:,:,log_idx[robot]] = sigma_x_t\n",
    "        est_times[robot][log_idx[robot]] = curTS\n",
    "        \n",
    "        #increment log tracker\n",
    "        log_idx[robot] += 1\n",
    "        \n",
    "    print(timesMoreMeas)\n",
    "        \n",
    "    return state_estimates, covariance_estimates, est_times, measuredCorrections\n",
    "        "
   ]
  },
  {
   "cell_type": "code",
   "execution_count": 284,
   "metadata": {},
   "outputs": [
    {
     "name": "stdout",
     "output_type": "stream",
     "text": [
      "5874\n"
     ]
    }
   ],
   "source": [
    "states, covars, est_times, measuredCorrections = main(odoTS, odoTSLen, barcode_dictionary, landmark_dictionary, gt_dictionary)"
   ]
  },
  {
   "cell_type": "code",
   "execution_count": 295,
   "metadata": {},
   "outputs": [
    {
     "name": "stdout",
     "output_type": "stream",
     "text": [
      "17\n",
      "5\n",
      "8\n",
      "75\n",
      "10\n",
      "[False False False ... False False False]\n"
     ]
    }
   ],
   "source": [
    "#flagging timesteps\n",
    "\n",
    "ts_jumps = {}\n",
    "thresh = (1/67)*25\n",
    "\n",
    "for i in range(5):\n",
    "    t = est_times[i]\n",
    "    diffs = t[1:] - t[:-1]\n",
    "    ts_jumps[i] = diffs > thresh \n",
    "    temp = np.zeros(len(ts_jumps[i]) + 1, dtype = bool)\n",
    "    temp[1:] = ts_jumps[i]\n",
    "    ts_jumps[i] = temp\n",
    "    print(np.sum(ts_jumps[i]))\n",
    "    \n",
    "print(ts_jumps[i])"
   ]
  },
  {
   "cell_type": "code",
   "execution_count": 286,
   "metadata": {},
   "outputs": [],
   "source": [
    "# def getError(robot_gt, robot_est, robot_ts):\n",
    "robot1_gt = loadFile(\"./MRCLAM_Dataset1/Robot1_Groundtruth.dat\")\n",
    "robot2_gt = loadFile(\"./MRCLAM_Dataset1/Robot2_Groundtruth.dat\")\n",
    "robot3_gt = loadFile(\"./MRCLAM_Dataset1/Robot3_Groundtruth.dat\")\n",
    "robot4_gt = loadFile(\"./MRCLAM_Dataset1/Robot4_Groundtruth.dat\")\n",
    "robot5_gt = loadFile(\"./MRCLAM_Dataset1/Robot5_Groundtruth.dat\")\n",
    "\n",
    "robot1_gt_np = robot1_gt.to_numpy()\n",
    "robot2_gt_np = robot2_gt.to_numpy()\n",
    "robot3_gt_np = robot3_gt.to_numpy()\n",
    "robot4_gt_np = robot4_gt.to_numpy()\n",
    "robot5_gt_np = robot5_gt.to_numpy()\n",
    "\n",
    "\n",
    "r1_x, r1_y, r1_theta, r1_euc = getError(robot1_gt_np, states[0], est_times[0])\n",
    "r2_x, r2_y, r2_theta, r2_euc = getError(robot2_gt_np, states[1], est_times[1])\n",
    "r3_x, r3_y, r3_theta, r3_euc = getError(robot3_gt_np, states[2], est_times[2])\n",
    "r4_x, r4_y, r4_theta, r4_euc = getError(robot4_gt_np, states[3], est_times[3])\n",
    "r5_x, r5_y, r5_theta, r5_euc = getError(robot5_gt_np, states[4], est_times[4])"
   ]
  },
  {
   "cell_type": "code",
   "execution_count": 287,
   "metadata": {},
   "outputs": [
    {
     "name": "stdout",
     "output_type": "stream",
     "text": [
      "robot 1 X RMSE:  1.2278142831754004\n",
      "robot 1 Y RMSE:  3.3561911643499074\n",
      "robot 1 theta RMSE:  0.0\n",
      "robot 1 euc RMSE:  4.584005447525308\n",
      "\n",
      "robot 2 X RMSE:  0.8332134301135192\n",
      "robot 2 Y RMSE:  2.131500263734573\n",
      "robot 2 theta RMSE:  0.0\n",
      "robot 2 euc RMSE:  2.964713693848092\n",
      "\n",
      "robot 3 X RMSE:  0.4668949170624594\n",
      "robot 3 Y RMSE:  0.9668433433321796\n",
      "robot 3 theta RMSE:  0.0\n",
      "robot 3 euc RMSE:  1.4337382603946387\n",
      "\n",
      "robot 4 X RMSE:  1.554141903444531\n",
      "robot 4 Y RMSE:  3.9367088562032198\n",
      "robot 4 theta RMSE:  0.0\n",
      "robot 4 euc RMSE:  5.49085075964775\n",
      "\n",
      "robot 5 X RMSE:  0.5024806431022695\n",
      "robot 5 Y RMSE:  1.1262249994304172\n",
      "robot 5 theta RMSE:  0.0\n",
      "robot 5 euc RMSE:  1.6287056425326867\n"
     ]
    }
   ],
   "source": [
    "#robot 1 RMSE values. NOTE: GT theta is not wrapped, RMSE is probably inflated\n",
    "print(\"robot 1 X RMSE: \", calcRMSE(r1_x))\n",
    "print(\"robot 1 Y RMSE: \", calcRMSE(r1_y))\n",
    "print(\"robot 1 theta RMSE: \", calcRMSE(r1_theta))\n",
    "print(\"robot 1 euc RMSE: \", calcRMSE(r1_euc))\n",
    "print()\n",
    "\n",
    "#robot 2 RMSE values. NOTE: GT theta is not wrapped, RMSE is probably inflated\n",
    "print(\"robot 2 X RMSE: \", calcRMSE(r2_x))\n",
    "print(\"robot 2 Y RMSE: \", calcRMSE(r2_y))\n",
    "print(\"robot 2 theta RMSE: \", calcRMSE(r2_theta))\n",
    "print(\"robot 2 euc RMSE: \", calcRMSE(r2_euc))\n",
    "print()\n",
    "\n",
    "#robot 3 RMSE values. NOTE: GT theta is not wrapped, RMSE is probably inflated\n",
    "print(\"robot 3 X RMSE: \", calcRMSE(r3_x))\n",
    "print(\"robot 3 Y RMSE: \", calcRMSE(r3_y))\n",
    "print(\"robot 3 theta RMSE: \", calcRMSE(r3_theta))\n",
    "print(\"robot 3 euc RMSE: \", calcRMSE(r3_euc))\n",
    "print()\n",
    "\n",
    "#robot 4 RMSE values. NOTE: GT theta is not wrapped, RMSE is probably inflated\n",
    "print(\"robot 4 X RMSE: \", calcRMSE(r4_x))\n",
    "print(\"robot 4 Y RMSE: \", calcRMSE(r4_y))\n",
    "print(\"robot 4 theta RMSE: \", calcRMSE(r4_theta))\n",
    "print(\"robot 4 euc RMSE: \", calcRMSE(r4_euc))\n",
    "print()\n",
    "\n",
    "#robot 5 RMSE values. NOTE: GT theta is not wrapped, RMSE is probably inflated\n",
    "print(\"robot 5 X RMSE: \", calcRMSE(r5_x))\n",
    "print(\"robot 5 Y RMSE: \", calcRMSE(r5_y))\n",
    "print(\"robot 5 theta RMSE: \", calcRMSE(r5_theta))\n",
    "print(\"robot 5 euc RMSE: \", calcRMSE(r5_euc))"
   ]
  },
  {
   "cell_type": "code",
   "execution_count": 288,
   "metadata": {},
   "outputs": [
    {
     "data": {
      "text/plain": [
       "[<matplotlib.lines.Line2D at 0x1aa7d17f308>]"
      ]
     },
     "execution_count": 288,
     "metadata": {},
     "output_type": "execute_result"
    },
    {
     "data": {
      "image/png": "[encoded data removed]",
      "text/plain": [
       "<Figure size 432x288 with 1 Axes>"
      ]
     },
     "metadata": {
      "needs_background": "light"
     },
     "output_type": "display_data"
    }
   ],
   "source": [
    "plt.plot(r1_euc)"
   ]
  },
  {
   "cell_type": "code",
   "execution_count": 296,
   "metadata": {},
   "outputs": [
    {
     "data": {
      "text/plain": [
       "[<matplotlib.lines.Line2D at 0x1aa4eaf0bc8>]"
      ]
     },
     "execution_count": 296,
     "metadata": {},
     "output_type": "execute_result"
    },
    {
     "data": {
      "image/png": "[encoded data removed]",
      "text/plain": [
       "<Figure size 432x288 with 1 Axes>"
      ]
     },
     "metadata": {
      "needs_background": "light"
     },
     "output_type": "display_data"
    }
   ],
   "source": [
    "plt.plot(est_times[0], r1_x)\n",
    "plt.plot(est_times[0], r1_y, \"k\")\n",
    "plt.plot(est_times[0][ts_jumps[0]], np.zeros(len(est_times[0][ts_jumps[0]])) ,\"rx\")"
   ]
  },
  {
   "cell_type": "code",
   "execution_count": 297,
   "metadata": {},
   "outputs": [
    {
     "data": {
      "text/plain": [
       "[<matplotlib.lines.Line2D at 0x1aa4eb63a88>]"
      ]
     },
     "execution_count": 297,
     "metadata": {},
     "output_type": "execute_result"
    },
    {
     "data": {
      "image/png": "[encoded data removed]",
      "text/plain": [
       "<Figure size 432x288 with 1 Axes>"
      ]
     },
     "metadata": {
      "needs_background": "light"
     },
     "output_type": "display_data"
    }
   ],
   "source": [
    "plt.plot(est_times[1], r2_x)\n",
    "plt.plot(est_times[1], r2_y, \"k\")\n",
    "plt.plot(est_times[1][ts_jumps[1]], np.zeros(len(est_times[1][ts_jumps[1]])) ,\"rx\")"
   ]
  },
  {
   "cell_type": "code",
   "execution_count": 298,
   "metadata": {},
   "outputs": [
    {
     "data": {
      "text/plain": [
       "[<matplotlib.lines.Line2D at 0x1aa51133808>]"
      ]
     },
     "execution_count": 298,
     "metadata": {},
     "output_type": "execute_result"
    },
    {
     "data": {
      "image/png": "[encoded data removed]",
      "text/plain": [
       "<Figure size 432x288 with 1 Axes>"
      ]
     },
     "metadata": {
      "needs_background": "light"
     },
     "output_type": "display_data"
    }
   ],
   "source": [
    "plt.plot(est_times[2], r3_x)\n",
    "plt.plot(est_times[2], r3_y, \"k\")\n",
    "plt.plot(est_times[2][ts_jumps[2]], np.zeros(len(est_times[2][ts_jumps[2]])) ,\"rx\")"
   ]
  },
  {
   "cell_type": "code",
   "execution_count": 299,
   "metadata": {},
   "outputs": [
    {
     "data": {
      "text/plain": [
       "Text(0, 0.5, 'Error')"
      ]
     },
     "execution_count": 299,
     "metadata": {},
     "output_type": "execute_result"
    },
    {
     "data": {
      "image/png": "[encoded data removed]",
      "text/plain": [
       "<Figure size 432x288 with 1 Axes>"
      ]
     },
     "metadata": {
      "needs_background": "light"
     },
     "output_type": "display_data"
    }
   ],
   "source": [
    "#plt.plot(est_times[3], r4_x)\n",
    "plt.plot(est_times[3], r4_y)\n",
    "#plt.plot(est_times[3][measuredCorrections[3]], np.zeros(len(est_times[3][measuredCorrections[3]])) ,\"rx\")\n",
    "plt.plot(est_times[3][ts_jumps[3]], np.zeros(len(est_times[3][ts_jumps[3]])) ,\"rx\")\n",
    "\n",
    "# plt.xlim([1248273500, 1248273600])\n",
    "# print(plt.axis())\n",
    "\n",
    "plt.title('Robot 4 X and Y Error')\n",
    "plt.xlabel('Time')\n",
    "plt.ylabel('Error')\n",
    "#plt.legend(['X Error', 'Y Error'])"
   ]
  },
  {
   "cell_type": "code",
   "execution_count": 300,
   "metadata": {},
   "outputs": [
    {
     "data": {
      "text/plain": [
       "[<matplotlib.lines.Line2D at 0x1aa73aab588>]"
      ]
     },
     "execution_count": 300,
     "metadata": {},
     "output_type": "execute_result"
    },
    {
     "data": {
      "image/png": "[encoded data removed]",
      "text/plain": [
       "<Figure size 432x288 with 1 Axes>"
      ]
     },
     "metadata": {
      "needs_background": "light"
     },
     "output_type": "display_data"
    }
   ],
   "source": [
    "plt.plot(est_times[4], r5_x)\n",
    "plt.plot(est_times[4], r5_y)"
   ]
  },
  {
   "cell_type": "code",
   "execution_count": null,
   "metadata": {},
   "outputs": [],
   "source": [
    "start = 20000\n",
    "to = 40000\n",
    "plt.plot(states[0][0][start:to], states[0][1][start:to], \"r\")\n",
    "plt.plot(robot1_gt_x, robot1_gt_y)"
   ]
  },
  {
   "cell_type": "markdown",
   "metadata": {},
   "source": [
    "## Ground Truth Plots"
   ]
  },
  {
   "cell_type": "code",
   "execution_count": null,
   "metadata": {},
   "outputs": [],
   "source": [
    "gt1 = robot1_gt.to_numpy()\n",
    "gt2 = robot2_gt.to_numpy()\n",
    "gt3 = robot3_gt.to_numpy()\n",
    "gt4 = robot4_gt.to_numpy()\n",
    "gt5 = robot5_gt.to_numpy()"
   ]
  },
  {
   "cell_type": "code",
   "execution_count": null,
   "metadata": {},
   "outputs": [],
   "source": [
    "plt.plot(gt4[:, 0], gt4[:, 1]) #plot x vs t\n",
    "plt.title(\"Ground Truth X vs Time (Robot 4)\")\n",
    "plt.xlabel(\"Time t (s)\")\n",
    "plt.ylabel(\"Position X (m)\")\n",
    "plt.plot(est_times[3], r4_x, \"r\")\n",
    "plt.plot(est_times[3], r4_y, \"k\")"
   ]
  },
  {
   "cell_type": "code",
   "execution_count": null,
   "metadata": {},
   "outputs": [],
   "source": [
    "plt.plot(gt4[:, 0], gt4[:, 2]) #plot y vs t\n",
    "plt.title(\"Ground Truth Y vs Time (Robot 4)\")\n",
    "plt.xlabel(\"Time t (s)\")\n",
    "plt.ylabel(\"Position Y (m)\")\n",
    "plt.plot(est_times[3], r4_x, \"r\")\n",
    "plt.plot(est_times[3], r4_y, \"k\")"
   ]
  },
  {
   "cell_type": "code",
   "execution_count": null,
   "metadata": {},
   "outputs": [],
   "source": [
    "plt.plot(gt4[:, 0], gt4[:, 3]) #plot theta vs t\n",
    "plt.title(\"Ground Truth Theta vs Time (Robot 4)\")\n",
    "plt.xlabel(\"Time t (s)\")\n",
    "plt.ylabel(\"Orientation Theta (rad)\")\n",
    "plt.plot(est_times[3], r4_x, \"r\")\n",
    "plt.plot(est_times[3], r4_y, \"k\")"
   ]
  },
  {
   "cell_type": "code",
   "execution_count": null,
   "metadata": {},
   "outputs": [],
   "source": [
    "plt.plot(est_times[3], r4_x)\n",
    "plt.plot(est_times[3], r4_y)\n",
    "\n",
    "plt.title('Robot 4 X and Y Error')\n",
    "plt.xlabel('Time')\n",
    "plt.ylabel('Error')\n",
    "plt.legend(['X Error', 'Y Error'])"
   ]
  },
  {
   "cell_type": "markdown",
   "metadata": {},
   "source": [
    "## Output Plots"
   ]
  },
  {
   "cell_type": "code",
   "execution_count": null,
   "metadata": {},
   "outputs": [],
   "source": [
    "plt.plot(states[0][0], states[0][1], \"r\")\n",
    "plt.plot(robot1_gt_x, robot1_gt_y)\n",
    "plt.title(\"Robot 1 Y vs X State Estimates vs Groundtruth\")\n",
    "plt.xlabel(\"x (m)\")\n",
    "plt.ylabel(\"y (m)\")\n",
    "plt.legend([\"State Estimates\", \"Ground Truth\"])"
   ]
  },
  {
   "cell_type": "code",
   "execution_count": null,
   "metadata": {},
   "outputs": [],
   "source": [
    "plt.plot(states[1][0], states[1][1], \"r\")\n",
    "plt.plot(robot2_gt_x, robot2_gt_y)\n",
    "plt.title(\"Robot 2 Y vs X State Estimates vs Groundtruth\")\n",
    "plt.xlabel(\"x (m)\")\n",
    "plt.ylabel(\"y (m)\")\n",
    "plt.legend([\"State Estimates\", \"Ground Truth\"])"
   ]
  },
  {
   "cell_type": "code",
   "execution_count": null,
   "metadata": {},
   "outputs": [],
   "source": [
    "plt.plot(states[2][0], states[2][1], \"r\")\n",
    "plt.plot(robot3_gt_x, robot3_gt_y)\n",
    "plt.title(\"Robot 3 Y vs X State Estimates vs Groundtruth\")\n",
    "plt.xlabel(\"x (m)\")\n",
    "plt.ylabel(\"y (m)\")\n",
    "plt.legend([\"State Estimates\", \"Ground Truth\"])"
   ]
  },
  {
   "cell_type": "code",
   "execution_count": null,
   "metadata": {},
   "outputs": [],
   "source": [
    "plt.plot(states[3][0], states[3][1], \"r\")\n",
    "plt.plot(robot4_gt_x, robot4_gt_y)\n",
    "plt.title(\"Robot 4 Y vs X State Estimates vs Groundtruth\")\n",
    "plt.xlabel(\"x (m)\")\n",
    "plt.ylabel(\"y (m)\")\n",
    "plt.legend([\"State Estimates\", \"Ground Truth\"])"
   ]
  },
  {
   "cell_type": "code",
   "execution_count": null,
   "metadata": {},
   "outputs": [],
   "source": [
    "plt.plot(states[4][0], states[4][1], \"r\")\n",
    "plt.plot(robot4_gt_x, robot4_gt_y)\n",
    "plt.title(\"Robot 5 Y vs X State Estimates vs Groundtruth\")\n",
    "plt.xlabel(\"x (m)\")\n",
    "plt.ylabel(\"y (m)\")\n",
    "plt.legend([\"State Estimates\", \"Ground Truth\"])"
   ]
  },
  {
   "cell_type": "code",
   "execution_count": null,
   "metadata": {},
   "outputs": [],
   "source": [
    "plt.plot(est_times[0], states[0][2])\n",
    "plt.plot(gt1[:, 0], gt1[:, 3], \"r\")\n",
    "plt.title(\"State Estimate Orientation, Ground Truth vs Time\")\n",
    "plt.xlabel(\"Time t (s)\")\n",
    "plt.ylabel(\"orientation (rad)\")"
   ]
  },
  {
   "cell_type": "markdown",
   "metadata": {},
   "source": [
    "## Miscellaneous Code"
   ]
  },
  {
   "cell_type": "code",
   "execution_count": 64,
   "metadata": {},
   "outputs": [],
   "source": [
    "a = np.array([np.eye(3), np.eye(3), np.eye(3), np.eye(3), np.eye(3)])"
   ]
  },
  {
   "cell_type": "code",
   "execution_count": 65,
   "metadata": {},
   "outputs": [],
   "source": [
    "test_dict = {}\n",
    "for i in range(5):\n",
    "    penguin = i + 100\n",
    "    test_dict[i] = penguin"
   ]
  },
  {
   "cell_type": "code",
   "execution_count": 66,
   "metadata": {},
   "outputs": [],
   "source": [
    "robot1_meas = loadFile(\"./\" + 'MRCLAM_Dataset1' + \"/Robot1_Measurement.dat\")\n",
    "test = robot1_meas.to_numpy()"
   ]
  },
  {
   "cell_type": "code",
   "execution_count": 67,
   "metadata": {},
   "outputs": [],
   "source": [
    " a = test[test[:,1] == 90]"
   ]
  },
  {
   "cell_type": "code",
   "execution_count": 68,
   "metadata": {},
   "outputs": [],
   "source": [
    "b = test[:,1] == 90\n",
    "c = test[:,1] == 18\n",
    "stuff = b | c "
   ]
  },
  {
   "cell_type": "code",
   "execution_count": 69,
   "metadata": {},
   "outputs": [],
   "source": [
    " a = test[stuff]"
   ]
  },
  {
   "cell_type": "code",
   "execution_count": 70,
   "metadata": {},
   "outputs": [
    {
     "name": "stdout",
     "output_type": "stream",
     "text": [
      "[1.24827228e+09 9.00000000e+01 2.14800000e+00 2.50000000e-02]\n",
      "[1.24827228e+09 9.00000000e+01 2.03300000e+00 2.40000000e-02]\n",
      "[1.24827228e+09 9.00000000e+01 1.94600000e+00 4.00000000e-02]\n",
      "[1.24827228e+09 9.00000000e+01 1.82600000e+00 4.30000000e-02]\n",
      "[1.24827228e+09 9.00000000e+01 1.82600000e+00 4.30000000e-02]\n"
     ]
    }
   ],
   "source": [
    "for i in range(5):\n",
    "    print(a[i])"
   ]
  },
  {
   "cell_type": "code",
   "execution_count": 71,
   "metadata": {},
   "outputs": [
    {
     "name": "stdout",
     "output_type": "stream",
     "text": [
      "[1.24827228e+09 9.00000000e+01 2.14800000e+00 2.50000000e-02]\n",
      "[1.24827228e+09 9.00000000e+01 2.03300000e+00 2.40000000e-02]\n",
      "[1.24827228e+09 9.00000000e+01 1.94600000e+00 4.00000000e-02]\n",
      "[1.24827228e+09 9.00000000e+01 1.82600000e+00 4.30000000e-02]\n",
      "[1.24827228e+09 9.00000000e+01 1.82600000e+00 4.30000000e-02]\n",
      "[1.24827228e+09 9.00000000e+01 1.82600000e+00 4.30000000e-02]\n",
      "[1.24827228e+09 9.00000000e+01 1.78200000e+00 5.80000000e-02]\n",
      "[1.24827228e+09 9.00000000e+01 1.71000000e+00 3.90000000e-02]\n",
      "[ 1.24827228e+09  9.00000000e+01  1.67700000e+00 -3.10000000e-02]\n",
      "[ 1.24827228e+09  9.00000000e+01  1.64500000e+00 -1.40000000e-02]\n"
     ]
    }
   ],
   "source": [
    "for i in range(10):\n",
    "    print(a[i])"
   ]
  },
  {
   "cell_type": "code",
   "execution_count": 72,
   "metadata": {},
   "outputs": [],
   "source": [
    "robot1_meas = loadFile(\"./\" + 'MRCLAM_Dataset1' + \"/Robot1_Measurement.dat\").to_numpy()"
   ]
  },
  {
   "cell_type": "code",
   "execution_count": 73,
   "metadata": {},
   "outputs": [
    {
     "data": {
      "text/plain": [
       "(5723, 4)"
      ]
     },
     "execution_count": 73,
     "metadata": {},
     "output_type": "execute_result"
    }
   ],
   "source": [
    "robot1_meas.shape"
   ]
  },
  {
   "cell_type": "code",
   "execution_count": 74,
   "metadata": {},
   "outputs": [],
   "source": [
    "test27 = np.zeros(5, dtype = bool)"
   ]
  },
  {
   "cell_type": "code",
   "execution_count": 75,
   "metadata": {},
   "outputs": [],
   "source": [
    "a = getMeasurements('MRCLAM_Dataset1', [5, 14, 41, 32, 23])"
   ]
  },
  {
   "cell_type": "code",
   "execution_count": 76,
   "metadata": {},
   "outputs": [
    {
     "data": {
      "text/plain": [
       "array([[ 1.24827228e+09,  1.40000000e+01,  3.38700000e+00,\n",
       "         6.00000000e-03],\n",
       "       [ 1.24827228e+09,  1.40000000e+01,  3.30900000e+00,\n",
       "        -1.50000000e-02],\n",
       "       [ 1.24827228e+09,  1.40000000e+01,  3.27200000e+00,\n",
       "        -2.30000000e-02],\n",
       "       ...,\n",
       "       [ 1.24827374e+09,  4.10000000e+01,  3.89000000e+00,\n",
       "         4.63000000e-01],\n",
       "       [ 1.24827375e+09,  4.10000000e+01,  3.73800000e+00,\n",
       "         4.77000000e-01],\n",
       "       [ 1.24827375e+09,  4.10000000e+01,  3.73800000e+00,\n",
       "         4.78000000e-01]])"
      ]
     },
     "execution_count": 76,
     "metadata": {},
     "output_type": "execute_result"
    }
   ],
   "source": [
    "beep = a[0]\n",
    "beep"
   ]
  },
  {
   "cell_type": "code",
   "execution_count": 77,
   "metadata": {},
   "outputs": [
    {
     "data": {
      "text/plain": [
       "array([[ 1.24827228e+09,  1.40000000e+01,  3.16500000e+00,\n",
       "        -5.10000000e-02],\n",
       "       [ 1.24827228e+09,  1.40000000e+01,  3.11800000e+00,\n",
       "        -7.00000000e-02],\n",
       "       [ 1.24827228e+09,  1.40000000e+01,  3.09800000e+00,\n",
       "        -7.60000000e-02],\n",
       "       [ 1.24827228e+09,  1.40000000e+01,  3.06500000e+00,\n",
       "        -8.00000000e-02],\n",
       "       [ 1.24827228e+09,  1.40000000e+01,  3.06500000e+00,\n",
       "        -8.00000000e-02],\n",
       "       [ 1.24827228e+09,  1.40000000e+01,  3.06500000e+00,\n",
       "        -8.00000000e-02],\n",
       "       [ 1.24827228e+09,  1.40000000e+01,  3.01100000e+00,\n",
       "        -8.90000000e-02],\n",
       "       [ 1.24827228e+09,  1.40000000e+01,  2.91200000e+00,\n",
       "        -1.21000000e-01]])"
      ]
     },
     "execution_count": 77,
     "metadata": {},
     "output_type": "execute_result"
    }
   ],
   "source": [
    "beep[(beep[:,0] > 1248272278.237) & (beep[:,0] < 1248272282.839)]"
   ]
  },
  {
   "cell_type": "code",
   "execution_count": 78,
   "metadata": {},
   "outputs": [
    {
     "data": {
      "text/plain": [
       "array([1.24827228e+09, 9.00000000e+01, 2.14800000e+00, 2.50000000e-02])"
      ]
     },
     "execution_count": 78,
     "metadata": {},
     "output_type": "execute_result"
    }
   ],
   "source": [
    "test[0]"
   ]
  },
  {
   "cell_type": "code",
   "execution_count": null,
   "metadata": {},
   "outputs": [],
   "source": []
  }
 ],
 "metadata": {
  "kernelspec": {
   "display_name": "Python 3",
   "language": "python",
   "name": "python3"
  },
  "language_info": {
   "codemirror_mode": {
    "name": "ipython",
    "version": 3
   },
   "file_extension": ".py",
   "mimetype": "text/x-python",
   "name": "python",
   "nbconvert_exporter": "python",
   "pygments_lexer": "ipython3",
   "version": "3.7.4"
  }
 },
 "nbformat": 4,
 "nbformat_minor": 2
}
